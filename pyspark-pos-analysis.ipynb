{
 "cells": [
  {
   "cell_type": "markdown",
   "id": "552b697b-1878-40ba-aeeb-969557e0e143",
   "metadata": {},
   "source": [
    "# PySpark Part of Speech (POS) analysis\n",
    "Text taken from [Reuters](https://www.reuters.com/business/finance/banks-beware-outsiders-are-cracking-code-finance-2021-09-17/)."
   ]
  },
  {
   "cell_type": "code",
   "execution_count": 1,
   "id": "7cd1ede6-d16a-4a00-bd87-1f62a8c5f149",
   "metadata": {},
   "outputs": [],
   "source": [
    "import nltk\n",
    "from pyspark import SparkContext"
   ]
  },
  {
   "cell_type": "code",
   "execution_count": 2,
   "id": "46c21e6e-08f3-4755-b0d3-2caa83441d6c",
   "metadata": {},
   "outputs": [
    {
     "name": "stderr",
     "output_type": "stream",
     "text": [
      "[nltk_data] Downloading package punkt to /home/hadoop/nltk_data...\n",
      "[nltk_data]   Package punkt is already up-to-date!\n",
      "[nltk_data] Downloading package averaged_perceptron_tagger to\n",
      "[nltk_data]     /home/hadoop/nltk_data...\n",
      "[nltk_data]   Package averaged_perceptron_tagger is already up-to-\n",
      "[nltk_data]       date!\n"
     ]
    },
    {
     "data": {
      "text/plain": [
       "True"
      ]
     },
     "execution_count": 2,
     "metadata": {},
     "output_type": "execute_result"
    }
   ],
   "source": [
    "nltk.download(\"punkt\")\n",
    "nltk.download(\"averaged_perceptron_tagger\")"
   ]
  },
  {
   "cell_type": "code",
   "execution_count": 3,
   "id": "23067b1b-24a8-4e92-8998-04aabe98c1b7",
   "metadata": {
    "tags": []
   },
   "outputs": [],
   "source": [
    "sc = SparkContext(\"spark://LAP-WIN-01166.localdomain:7077\", appName = \"pyspark-pos-analysis-parcial\")"
   ]
  },
  {
   "cell_type": "code",
   "execution_count": 4,
   "id": "d3867cc9-1200-454b-b808-46ff63273be8",
   "metadata": {},
   "outputs": [],
   "source": [
    "# Loading a text file\n",
    "rdd_reuters = sc.textFile(\"./data/reuters.txt\")"
   ]
  },
  {
   "cell_type": "code",
   "execution_count": 5,
   "id": "c010db1d-f71e-4a8d-992c-076d7e16b777",
   "metadata": {},
   "outputs": [
    {
     "data": {
      "text/plain": [
       "87"
      ]
     },
     "execution_count": 5,
     "metadata": {},
     "output_type": "execute_result"
    }
   ],
   "source": [
    "rdd_reuters.count()"
   ]
  },
  {
   "cell_type": "code",
   "execution_count": 6,
   "id": "9ed43c17-6a98-4b55-938b-744e446acab1",
   "metadata": {},
   "outputs": [],
   "source": [
    "#Mapeo de input \n",
    "words = rdd_reuters.flatMap(lambda x: x.split(\" \")).collect()\n",
    "#operación en paralelo\n",
    "rdd_pair = sc.parallelize(words)\n",
    "#Etiquetado de palabras\n",
    "tagged_words =nltk.pos_tag(words)\n"
   ]
  },
  {
   "cell_type": "code",
   "execution_count": 7,
   "id": "c8a8d604-018f-4726-a8ca-122fc3c59436",
   "metadata": {
    "tags": []
   },
   "outputs": [
    {
     "data": {
      "text/plain": [
       "[('WRB', 7),\n",
       " ('WP', 1),\n",
       " ('WDT', 8),\n",
       " ('VBZ', 34),\n",
       " ('VBP', 44),\n",
       " ('VBN', 25),\n",
       " ('VBG', 27),\n",
       " ('VBD', 33),\n",
       " ('VB', 60),\n",
       " ('TO', 42),\n",
       " ('RP', 7),\n",
       " ('RBS', 1),\n",
       " ('RBR', 3),\n",
       " ('RB', 41),\n",
       " ('PRP$', 13),\n",
       " ('PRP', 32),\n",
       " ('PDT', 1),\n",
       " ('NNS', 102),\n",
       " ('NNP', 171),\n",
       " ('NN', 209),\n",
       " ('MD', 17),\n",
       " ('JJS', 3),\n",
       " ('JJR', 3),\n",
       " ('JJ', 105),\n",
       " ('IN', 146),\n",
       " ('FW', 1),\n",
       " ('DT', 74),\n",
       " ('CD', 18),\n",
       " ('CC', 46),\n",
       " (':', 8)]"
      ]
     },
     "execution_count": 7,
     "metadata": {},
     "output_type": "execute_result"
    }
   ],
   "source": [
    "# Operación en paralelo \n",
    "rdd_pair_two = sc.parallelize(tagged_words)\n",
    "\n",
    "result = rdd_pair_two.map(lambda x: (x[1]))\n",
    "\n",
    "result.map(lambda word: (word, 1)) \\\n",
    "    .reduceByKey(lambda a, b: a + b) \\\n",
    "    .sortByKey(ascending = False) \\\n",
    "    .collect()"
   ]
  },
  {
   "cell_type": "code",
   "execution_count": 8,
   "id": "1aa91003-30b4-4b0b-a8a9-0e514905afb2",
   "metadata": {},
   "outputs": [],
   "source": [
    "sc.stop()"
   ]
  },
  {
   "cell_type": "code",
   "execution_count": null,
   "id": "4bd7f6e0-c795-4ea7-999a-31e192e4eb76",
   "metadata": {},
   "outputs": [],
   "source": []
  }
 ],
 "metadata": {
  "kernelspec": {
   "display_name": "Python 3",
   "language": "python",
   "name": "python3"
  },
  "language_info": {
   "codemirror_mode": {
    "name": "ipython",
    "version": 3
   },
   "file_extension": ".py",
   "mimetype": "text/x-python",
   "name": "python",
   "nbconvert_exporter": "python",
   "pygments_lexer": "ipython3",
   "version": "3.8.8"
  }
 },
 "nbformat": 4,
 "nbformat_minor": 5
}
